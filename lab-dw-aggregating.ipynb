{
  "cells": [
    {
      "cell_type": "markdown",
      "id": "31969215-2a90-4d8b-ac36-646a7ae13744",
      "metadata": {
        "id": "31969215-2a90-4d8b-ac36-646a7ae13744"
      },
      "source": [
        "# Lab | Data Aggregation and Filtering"
      ]
    },
    {
      "cell_type": "markdown",
      "id": "a8f08a52-bec0-439b-99cc-11d3809d8b5d",
      "metadata": {
        "id": "a8f08a52-bec0-439b-99cc-11d3809d8b5d"
      },
      "source": [
        "In this challenge, we will continue to work with customer data from an insurance company. We will use the dataset called marketing_customer_analysis.csv, which can be found at the following link:\n",
        "\n",
        "https://raw.githubusercontent.com/data-bootcamp-v4/data/main/marketing_customer_analysis.csv\n",
        "\n",
        "This dataset contains information such as customer demographics, policy details, vehicle information, and the customer's response to the last marketing campaign. Our goal is to explore and analyze this data by first performing data cleaning, formatting, and structuring."
      ]
    },
    {
      "cell_type": "code",
      "execution_count": null,
      "id": "12887cff",
      "metadata": {},
      "outputs": [],
      "source": [
        "import pandas as pd \n",
        "import numpy as np \n",
        "url= \"https://raw.githubusercontent.com/data-bootcamp-v4/data/main/marketing_customer_analysis.csv\"\n",
        "df= pd.read_csv (url)\n",
        "\n",
        "def format_column_names(df):\n",
        "    df.columns = df.columns.str.lower()\n",
        "    df.columns = df.columns.str.replace(' ', '_')\n",
        "    return df\n",
        "df= format_column_names(df)\n",
        "print (df.columns)\n",
        "\n"
      ]
    },
    {
      "cell_type": "code",
      "execution_count": null,
      "id": "1ca89076",
      "metadata": {},
      "outputs": [],
      "source": [
        "\n",
        "\n",
        "# cleaning \n",
        "\n",
        "df['gender'] = df['gender'].str.lower().replace({'f': 'F', 'femal': 'F', \"female\":\"F\",'m':\"M\",\"male\": 'M'})\n",
        "state_mapping = {'AZ': 'Arizona', 'Cali': 'California', 'WA': 'Washington'}\n",
        "df['state'] = df['state'].replace(state_mapping)\n",
        "df['education'] = df['education'].replace({'Bachelors': 'Bachelor'})\n",
        "vehicle_class_mapping = {'Sports Car': 'Luxury', 'Luxury SUV': 'Luxury', 'Luxury Car': 'Luxury'}\n",
        "df['vehicle_class'] = df['vehicle_class'].replace(vehicle_class_mapping)\n",
        "df['customer_lifetime_value'] = df['customer_lifetime_value'].astype(str).str.replace('%', '').astype(float)\n",
        "\n",
        "#cleaning  check\n",
        "print(df['gender'].unique())\n",
        "print(df['state'].unique())\n",
        "print(df['education'].unique())\n",
        "print(df['customer_lifetime_value'].unique())\n",
        "print(df['vehicle_class'].unique())\n",
        "\n",
        "#numerical\n",
        "df['customer_lifetime_value'] = pd.to_numeric(df['customer_lifetime_value'], errors='coerce')\n",
        "is_numerical = pd.api.types.is_numeric_dtype(df['customer_lifetime_value'])\n",
        "is_numerical\n",
        "\n",
        "# null \n",
        "cleaned_null = df.dropna(axis=0, how='any').dropna(axis=1, how='any')\n",
        "print(df.info())\n",
        "\n",
        "# duplicate\n",
        "duplicates = df.duplicated()\n",
        "print(duplicates.sum())\n",
        "df_first_occurrence = df.drop_duplicates()\n",
        "#check\n",
        "no_duplicates_check = df_first_occurrence.duplicated().sum()\n",
        "print(\"\\nNumber of Duplicate Rows after Handling:\", no_duplicates_check)\n",
        "\n",
        "# Save the cleaned dataset to a new CSV file (index = false reboot index )\n",
        "df_first_occurrence.to_csv('cleaned_dataset_first_occurrence.csv', index=False)\n",
        "\n",
        "# look if it works\n",
        "print(df_first_occurrence.info())\n"
      ]
    },
    {
      "cell_type": "code",
      "execution_count": null,
      "id": "4edeb41a",
      "metadata": {},
      "outputs": [],
      "source": [
        "print(df['response'].unique())\n"
      ]
    },
    {
      "cell_type": "code",
      "execution_count": null,
      "id": "5bd3a63b",
      "metadata": {},
      "outputs": [],
      "source": [
        "duplicates = df[df.duplicated()]\n",
        "num_duplicates = len(duplicates)\n",
        "print(num_duplicates)"
      ]
    },
    {
      "cell_type": "code",
      "execution_count": null,
      "id": "efac4e85",
      "metadata": {},
      "outputs": [],
      "source": []
    },
    {
      "cell_type": "markdown",
      "id": "9c98ddc5-b041-4c94-ada1-4dfee5c98e50",
      "metadata": {
        "id": "9c98ddc5-b041-4c94-ada1-4dfee5c98e50"
      },
      "source": [
        "1. Create a new DataFrame that only includes customers who have a total_claim_amount greater than $1,000 and have a response of \"Yes\" to the last marketing campaign."
      ]
    },
    {
      "cell_type": "code",
      "execution_count": null,
      "id": "dcff32fe",
      "metadata": {},
      "outputs": [],
      "source": [
        "customer1000_df = df[(df['total_claim_amount'] > 1000) & (df['response'] == 'Yes')]\n",
        "print(customer1000_df)"
      ]
    },
    {
      "cell_type": "markdown",
      "id": "b9be383e-5165-436e-80c8-57d4c757c8c3",
      "metadata": {
        "id": "b9be383e-5165-436e-80c8-57d4c757c8c3"
      },
      "source": [
        "2. Using the original Dataframe, analyze the average total_claim_amount by each policy type and gender for customers who have responded \"Yes\" to the last marketing campaign. Write your conclusions."
      ]
    },
    {
      "cell_type": "code",
      "execution_count": null,
      "id": "17b812c2",
      "metadata": {},
      "outputs": [],
      "source": [
        "yes_df= df[df['response'] == 'Yes']\n",
        "\n",
        "average_claim_amount = yes_df.groupby(['policy_type', 'gender'])['total_claim_amount'].mean().reset_index()\n",
        "\n",
        "print(average_claim_amount)\n",
        "#the claim amount mean are pretty similar but both corporate and special  categorie women have a tendancy to spend more "
      ]
    },
    {
      "cell_type": "markdown",
      "id": "7050f4ac-53c5-4193-a3c0-8699b87196f0",
      "metadata": {
        "id": "7050f4ac-53c5-4193-a3c0-8699b87196f0"
      },
      "source": [
        "3. Analyze the total number of customers who have policies in each state, and then filter the results to only include states where there are more than 500 customers."
      ]
    },
    {
      "cell_type": "code",
      "execution_count": null,
      "id": "a16b98f7",
      "metadata": {},
      "outputs": [],
      "source": [
        "#Analyze the total number of customers who have policies in each state\n",
        "state_count_df = df.groupby('state')['customer'].count().reset_index()\n",
        "print(state_count_df)\n"
      ]
    },
    {
      "cell_type": "code",
      "execution_count": null,
      "id": "a995708c",
      "metadata": {},
      "outputs": [],
      "source": [
        "more_500_state_count_df= state_count_df [state_count_df[\"customer\"]>500]\n",
        "more_500_state_count_df\n",
        "#they are more than 500 in all"
      ]
    },
    {
      "cell_type": "code",
      "execution_count": null,
      "id": "03fb486f",
      "metadata": {},
      "outputs": [],
      "source": [
        "df[\"state\"].unique()\n"
      ]
    },
    {
      "cell_type": "markdown",
      "id": "b60a4443-a1a7-4bbf-b78e-9ccdf9895e0d",
      "metadata": {
        "id": "b60a4443-a1a7-4bbf-b78e-9ccdf9895e0d"
      },
      "source": [
        "4. Find the maximum, minimum, and median customer lifetime value by education level and gender. Write your conclusions."
      ]
    },
    {
      "cell_type": "code",
      "execution_count": 28,
      "id": "0efbdf6b",
      "metadata": {},
      "outputs": [
        {
          "data": {
            "text/html": [
              "<div>\n",
              "<style scoped>\n",
              "    .dataframe tbody tr th:only-of-type {\n",
              "        vertical-align: middle;\n",
              "    }\n",
              "\n",
              "    .dataframe tbody tr th {\n",
              "        vertical-align: top;\n",
              "    }\n",
              "\n",
              "    .dataframe thead th {\n",
              "        text-align: right;\n",
              "    }\n",
              "</style>\n",
              "<table border=\"1\" class=\"dataframe\">\n",
              "  <thead>\n",
              "    <tr style=\"text-align: right;\">\n",
              "      <th></th>\n",
              "      <th>education</th>\n",
              "      <th>gender</th>\n",
              "      <th>max</th>\n",
              "      <th>min</th>\n",
              "      <th>median</th>\n",
              "    </tr>\n",
              "  </thead>\n",
              "  <tbody>\n",
              "    <tr>\n",
              "      <th>0</th>\n",
              "      <td>Bachelor</td>\n",
              "      <td>F</td>\n",
              "      <td>73225.95652</td>\n",
              "      <td>1904.000852</td>\n",
              "      <td>5640.505303</td>\n",
              "    </tr>\n",
              "    <tr>\n",
              "      <th>1</th>\n",
              "      <td>Bachelor</td>\n",
              "      <td>M</td>\n",
              "      <td>67907.27050</td>\n",
              "      <td>1898.007675</td>\n",
              "      <td>5548.031892</td>\n",
              "    </tr>\n",
              "    <tr>\n",
              "      <th>2</th>\n",
              "      <td>College</td>\n",
              "      <td>F</td>\n",
              "      <td>61850.18803</td>\n",
              "      <td>1898.683686</td>\n",
              "      <td>5623.611187</td>\n",
              "    </tr>\n",
              "    <tr>\n",
              "      <th>3</th>\n",
              "      <td>College</td>\n",
              "      <td>M</td>\n",
              "      <td>61134.68307</td>\n",
              "      <td>1918.119700</td>\n",
              "      <td>6005.847375</td>\n",
              "    </tr>\n",
              "    <tr>\n",
              "      <th>4</th>\n",
              "      <td>Doctor</td>\n",
              "      <td>F</td>\n",
              "      <td>44856.11397</td>\n",
              "      <td>2395.570000</td>\n",
              "      <td>5332.462694</td>\n",
              "    </tr>\n",
              "    <tr>\n",
              "      <th>5</th>\n",
              "      <td>Doctor</td>\n",
              "      <td>M</td>\n",
              "      <td>32677.34284</td>\n",
              "      <td>2267.604038</td>\n",
              "      <td>5577.669457</td>\n",
              "    </tr>\n",
              "    <tr>\n",
              "      <th>6</th>\n",
              "      <td>High School or Below</td>\n",
              "      <td>F</td>\n",
              "      <td>55277.44589</td>\n",
              "      <td>2144.921535</td>\n",
              "      <td>6039.553187</td>\n",
              "    </tr>\n",
              "    <tr>\n",
              "      <th>7</th>\n",
              "      <td>High School or Below</td>\n",
              "      <td>M</td>\n",
              "      <td>83325.38119</td>\n",
              "      <td>1940.981221</td>\n",
              "      <td>6286.731006</td>\n",
              "    </tr>\n",
              "    <tr>\n",
              "      <th>8</th>\n",
              "      <td>Master</td>\n",
              "      <td>F</td>\n",
              "      <td>51016.06704</td>\n",
              "      <td>2417.777032</td>\n",
              "      <td>5729.855012</td>\n",
              "    </tr>\n",
              "    <tr>\n",
              "      <th>9</th>\n",
              "      <td>Master</td>\n",
              "      <td>M</td>\n",
              "      <td>50568.25912</td>\n",
              "      <td>2272.307310</td>\n",
              "      <td>5579.099207</td>\n",
              "    </tr>\n",
              "  </tbody>\n",
              "</table>\n",
              "</div>"
            ],
            "text/plain": [
              "              education gender          max          min       median\n",
              "0              Bachelor      F  73225.95652  1904.000852  5640.505303\n",
              "1              Bachelor      M  67907.27050  1898.007675  5548.031892\n",
              "2               College      F  61850.18803  1898.683686  5623.611187\n",
              "3               College      M  61134.68307  1918.119700  6005.847375\n",
              "4                Doctor      F  44856.11397  2395.570000  5332.462694\n",
              "5                Doctor      M  32677.34284  2267.604038  5577.669457\n",
              "6  High School or Below      F  55277.44589  2144.921535  6039.553187\n",
              "7  High School or Below      M  83325.38119  1940.981221  6286.731006\n",
              "8                Master      F  51016.06704  2417.777032  5729.855012\n",
              "9                Master      M  50568.25912  2272.307310  5579.099207"
            ]
          },
          "execution_count": 28,
          "metadata": {},
          "output_type": "execute_result"
        }
      ],
      "source": [
        "summary_statistics = df.groupby(['education', 'gender'])['customer_lifetime_value'].agg(['max', 'min', 'median']).reset_index()\n",
        "summary_statistics\n",
        "#The maximum customer lifetime values across education levels and gender and woman have globally a have a higher median value"
      ]
    },
    {
      "cell_type": "markdown",
      "id": "b42999f9-311f-481e-ae63-40a5577072c5",
      "metadata": {
        "id": "b42999f9-311f-481e-ae63-40a5577072c5"
      },
      "source": [
        "## Bonus"
      ]
    },
    {
      "cell_type": "markdown",
      "id": "81ff02c5-6584-4f21-a358-b918697c6432",
      "metadata": {
        "id": "81ff02c5-6584-4f21-a358-b918697c6432"
      },
      "source": [
        "5. The marketing team wants to analyze the number of policies sold by state and month. Present the data in a table where the months are arranged as columns and the states are arranged as rows."
      ]
    },
    {
      "cell_type": "markdown",
      "id": "b6aec097-c633-4017-a125-e77a97259cda",
      "metadata": {
        "id": "b6aec097-c633-4017-a125-e77a97259cda"
      },
      "source": [
        "6.  Display a new DataFrame that contains the number of policies sold by month, by state, for the top 3 states with the highest number of policies sold.\n",
        "\n",
        "*Hint:*\n",
        "- *To accomplish this, you will first need to group the data by state and month, then count the number of policies sold for each group. Afterwards, you will need to sort the data by the count of policies sold in descending order.*\n",
        "- *Next, you will select the top 3 states with the highest number of policies sold.*\n",
        "- *Finally, you will create a new DataFrame that contains the number of policies sold by month for each of the top 3 states.*"
      ]
    },
    {
      "cell_type": "markdown",
      "id": "ba975b8a-a2cf-4fbf-9f59-ebc381767009",
      "metadata": {
        "id": "ba975b8a-a2cf-4fbf-9f59-ebc381767009"
      },
      "source": [
        "7. The marketing team wants to analyze the effect of different marketing channels on the customer response rate.\n",
        "\n",
        "Hint: You can use melt to unpivot the data and create a table that shows the customer response rate (those who responded \"Yes\") by marketing channel."
      ]
    },
    {
      "cell_type": "markdown",
      "id": "e4378d94-48fb-4850-a802-b1bc8f427b2d",
      "metadata": {
        "id": "e4378d94-48fb-4850-a802-b1bc8f427b2d"
      },
      "source": [
        "External Resources for Data Filtering: https://towardsdatascience.com/filtering-data-frames-in-pandas-b570b1f834b9"
      ]
    },
    {
      "cell_type": "code",
      "execution_count": null,
      "id": "449513f4-0459-46a0-a18d-9398d974c9ad",
      "metadata": {
        "id": "449513f4-0459-46a0-a18d-9398d974c9ad"
      },
      "outputs": [],
      "source": [
        "# your code goes here"
      ]
    }
  ],
  "metadata": {
    "colab": {
      "provenance": []
    },
    "kernelspec": {
      "display_name": "Python 3 (ipykernel)",
      "language": "python",
      "name": "python3"
    },
    "language_info": {
      "codemirror_mode": {
        "name": "ipython",
        "version": 3
      },
      "file_extension": ".py",
      "mimetype": "text/x-python",
      "name": "python",
      "nbconvert_exporter": "python",
      "pygments_lexer": "ipython3",
      "version": "3.11.5"
    }
  },
  "nbformat": 4,
  "nbformat_minor": 5
}
